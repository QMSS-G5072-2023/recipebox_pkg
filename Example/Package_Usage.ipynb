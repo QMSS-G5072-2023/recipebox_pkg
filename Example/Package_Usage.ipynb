{
 "cells": [
  {
   "cell_type": "code",
   "execution_count": 1,
   "id": "e29c89a6",
   "metadata": {},
   "outputs": [
    {
     "name": "stdout",
     "output_type": "stream",
     "text": [
      "Looking in indexes: https://test.pypi.org/simple/\n",
      "Collecting recipebox_pkg==2.1.1\n",
      "  Downloading https://test-files.pythonhosted.org/packages/7a/59/fea3aae8a7e4c82968fd7f5568c8a1ea3f1ec2d94c2f6f4e64708c829154/recipebox_pkg-2.1.1-py3-none-any.whl.metadata (2.4 kB)\n",
      "Requirement already satisfied: pandas<2.0.0,>=1.4.2 in /Users/anyuchen/opt/anaconda3/lib/python3.9/site-packages (from recipebox_pkg==2.1.1) (1.4.2)\n",
      "Requirement already satisfied: requests<3.0.0,>=2.31.0 in /Users/anyuchen/opt/anaconda3/lib/python3.9/site-packages (from recipebox_pkg==2.1.1) (2.31.0)\n",
      "Requirement already satisfied: python-dateutil>=2.8.1 in /Users/anyuchen/opt/anaconda3/lib/python3.9/site-packages (from pandas<2.0.0,>=1.4.2->recipebox_pkg==2.1.1) (2.8.2)\n",
      "Requirement already satisfied: pytz>=2020.1 in /Users/anyuchen/opt/anaconda3/lib/python3.9/site-packages (from pandas<2.0.0,>=1.4.2->recipebox_pkg==2.1.1) (2023.3.post1)\n",
      "Requirement already satisfied: numpy>=1.18.5 in /Users/anyuchen/opt/anaconda3/lib/python3.9/site-packages (from pandas<2.0.0,>=1.4.2->recipebox_pkg==2.1.1) (1.23.5)\n",
      "Requirement already satisfied: charset-normalizer<4,>=2 in /Users/anyuchen/opt/anaconda3/lib/python3.9/site-packages (from requests<3.0.0,>=2.31.0->recipebox_pkg==2.1.1) (2.0.4)\n",
      "Requirement already satisfied: idna<4,>=2.5 in /Users/anyuchen/opt/anaconda3/lib/python3.9/site-packages (from requests<3.0.0,>=2.31.0->recipebox_pkg==2.1.1) (3.4)\n",
      "Requirement already satisfied: urllib3<3,>=1.21.1 in /Users/anyuchen/opt/anaconda3/lib/python3.9/site-packages (from requests<3.0.0,>=2.31.0->recipebox_pkg==2.1.1) (1.26.18)\n",
      "Requirement already satisfied: certifi>=2017.4.17 in /Users/anyuchen/opt/anaconda3/lib/python3.9/site-packages (from requests<3.0.0,>=2.31.0->recipebox_pkg==2.1.1) (2023.11.17)\n",
      "Requirement already satisfied: six>=1.5 in /Users/anyuchen/opt/anaconda3/lib/python3.9/site-packages (from python-dateutil>=2.8.1->pandas<2.0.0,>=1.4.2->recipebox_pkg==2.1.1) (1.16.0)\n",
      "Downloading https://test-files.pythonhosted.org/packages/7a/59/fea3aae8a7e4c82968fd7f5568c8a1ea3f1ec2d94c2f6f4e64708c829154/recipebox_pkg-2.1.1-py3-none-any.whl (8.2 kB)\n",
      "Installing collected packages: recipebox_pkg\n",
      "  Attempting uninstall: recipebox_pkg\n",
      "    Found existing installation: recipebox_pkg 1.1.7\n",
      "    Uninstalling recipebox_pkg-1.1.7:\n",
      "      Successfully uninstalled recipebox_pkg-1.1.7\n",
      "Successfully installed recipebox_pkg-2.1.1\n",
      "Note: you may need to restart the kernel to use updated packages.\n"
     ]
    }
   ],
   "source": [
    "pip install -i https://test.pypi.org/simple/ recipebox_pkg==2.1.1"
   ]
  },
  {
   "cell_type": "code",
   "execution_count": 5,
   "id": "e940bc8f",
   "metadata": {},
   "outputs": [],
   "source": [
    "import os"
   ]
  },
  {
   "cell_type": "code",
   "execution_count": 6,
   "id": "8033972f",
   "metadata": {},
   "outputs": [],
   "source": [
    "from recipebox_pkg import (fetch_recipe, id_search, ing_search, nutr_search)"
   ]
  },
  {
   "cell_type": "code",
   "execution_count": 10,
   "id": "330f12db",
   "metadata": {},
   "outputs": [],
   "source": [
    "recipe_api_key = 'ac79d6a534msh2bffb618cc3a7a5p1f4601jsnb3053b7f89a8'"
   ]
  },
  {
   "cell_type": "code",
   "execution_count": 14,
   "id": "c0c9a402",
   "metadata": {},
   "outputs": [
    {
     "data": {
      "text/html": [
       "<style type=\"text/css\">\n",
       "</style>\n",
       "<table id=\"T_49f76\">\n",
       "  <thead>\n",
       "    <tr>\n",
       "      <th class=\"blank level0\" >&nbsp;</th>\n",
       "      <th id=\"T_49f76_level0_col0\" class=\"col_heading level0 col0\" >title</th>\n",
       "      <th id=\"T_49f76_level0_col1\" class=\"col_heading level0 col1\" >servings</th>\n",
       "      <th id=\"T_49f76_level0_col2\" class=\"col_heading level0 col2\" >readyInMinutes</th>\n",
       "      <th id=\"T_49f76_level0_col3\" class=\"col_heading level0 col3\" >sourceUrl</th>\n",
       "    </tr>\n",
       "    <tr>\n",
       "      <th class=\"index_name level0\" >id</th>\n",
       "      <th class=\"blank col0\" >&nbsp;</th>\n",
       "      <th class=\"blank col1\" >&nbsp;</th>\n",
       "      <th class=\"blank col2\" >&nbsp;</th>\n",
       "      <th class=\"blank col3\" >&nbsp;</th>\n",
       "    </tr>\n",
       "  </thead>\n",
       "  <tbody>\n",
       "    <tr>\n",
       "      <th id=\"T_49f76_level0_row0\" class=\"row_heading level0 row0\" >690978</th>\n",
       "      <td id=\"T_49f76_row0_col0\" class=\"data row0 col0\" >Healthy Salmon Quinoa Burgers </td>\n",
       "      <td id=\"T_49f76_row0_col1\" class=\"data row0 col1\" >5</td>\n",
       "      <td id=\"T_49f76_row0_col2\" class=\"data row0 col2\" >30</td>\n",
       "      <td id=\"T_49f76_row0_col3\" class=\"data row0 col3\" ><a href=\"http://www.skinnytaste.com/2015/03/healthy-salmon-quinoa-burgers.html\" target=\"_blank\">http://www.skinnytaste.com/2015/03/healthy-salmon-quinoa-burgers.html</a></td>\n",
       "    </tr>\n",
       "    <tr>\n",
       "      <th id=\"T_49f76_level0_row1\" class=\"row_heading level0 row1\" >525021</th>\n",
       "      <td id=\"T_49f76_row1_col0\" class=\"data row1 col0\" >Smoky Sweet Potato Burgers with Roasted Garlic Cream and Avocado</td>\n",
       "      <td id=\"T_49f76_row1_col1\" class=\"data row1 col1\" >4</td>\n",
       "      <td id=\"T_49f76_row1_col2\" class=\"data row1 col2\" >55</td>\n",
       "      <td id=\"T_49f76_row1_col3\" class=\"data row1 col3\" ><a href=\"http://www.howsweeteats.com/2012/09/smoky-sweet-potato-burgers-with-roasted-garlic-cream-and-avocado/\" target=\"_blank\">http://www.howsweeteats.com/2012/09/smoky-sweet-potato-burgers-with-roasted-garlic-cream-and-avocado/</a></td>\n",
       "    </tr>\n",
       "    <tr>\n",
       "      <th id=\"T_49f76_level0_row2\" class=\"row_heading level0 row2\" >524656</th>\n",
       "      <td id=\"T_49f76_row2_col0\" class=\"data row2 col0\" >Bacon Cheeseburgers with a Fried Egg + Maple Aioli</td>\n",
       "      <td id=\"T_49f76_row2_col1\" class=\"data row2 col1\" >4</td>\n",
       "      <td id=\"T_49f76_row2_col2\" class=\"data row2 col2\" >300</td>\n",
       "      <td id=\"T_49f76_row2_col3\" class=\"data row2 col3\" ><a href=\"http://www.howsweeteats.com/2013/08/breakfast-burgers-with-maple-aioli/\" target=\"_blank\">http://www.howsweeteats.com/2013/08/breakfast-burgers-with-maple-aioli/</a></td>\n",
       "    </tr>\n",
       "    <tr>\n",
       "      <th id=\"T_49f76_level0_row3\" class=\"row_heading level0 row3\" >715305</th>\n",
       "      <td id=\"T_49f76_row3_col0\" class=\"data row3 col0\" >Stellar Quinoa Burger</td>\n",
       "      <td id=\"T_49f76_row3_col1\" class=\"data row3 col1\" >4</td>\n",
       "      <td id=\"T_49f76_row3_col2\" class=\"data row3 col2\" >45</td>\n",
       "      <td id=\"T_49f76_row3_col3\" class=\"data row3 col3\" ><a href=\"http://www.bonappetit.com/recipe/stellar-quinoa-burger\" target=\"_blank\">http://www.bonappetit.com/recipe/stellar-quinoa-burger</a></td>\n",
       "    </tr>\n",
       "    <tr>\n",
       "      <th id=\"T_49f76_level0_row4\" class=\"row_heading level0 row4\" >524657</th>\n",
       "      <td id=\"T_49f76_row4_col0\" class=\"data row4 col0\" >Thai Turkey Burgers</td>\n",
       "      <td id=\"T_49f76_row4_col1\" class=\"data row4 col1\" >4</td>\n",
       "      <td id=\"T_49f76_row4_col2\" class=\"data row4 col2\" >35</td>\n",
       "      <td id=\"T_49f76_row4_col3\" class=\"data row4 col3\" ><a href=\"http://www.howsweeteats.com/2013/01/thai-turkey-burgers/\" target=\"_blank\">http://www.howsweeteats.com/2013/01/thai-turkey-burgers/</a></td>\n",
       "    </tr>\n",
       "    <tr>\n",
       "      <th id=\"T_49f76_level0_row5\" class=\"row_heading level0 row5\" >587818</th>\n",
       "      <td id=\"T_49f76_row5_col0\" class=\"data row5 col0\" >Bacon Burgers with Bacon Onion Balsamic Jam</td>\n",
       "      <td id=\"T_49f76_row5_col1\" class=\"data row5 col1\" >4</td>\n",
       "      <td id=\"T_49f76_row5_col2\" class=\"data row5 col2\" >45</td>\n",
       "      <td id=\"T_49f76_row5_col3\" class=\"data row5 col3\" ><a href=\"http://www.smells-like-home.com/2012/07/bacon-burgers-with-bacon-onion-balsamic-jam/\" target=\"_blank\">http://www.smells-like-home.com/2012/07/bacon-burgers-with-bacon-onion-balsamic-jam/</a></td>\n",
       "    </tr>\n",
       "    <tr>\n",
       "      <th id=\"T_49f76_level0_row6\" class=\"row_heading level0 row6\" >486526</th>\n",
       "      <td id=\"T_49f76_row6_col0\" class=\"data row6 col0\" >Sweet Potato and Eggplant Burger</td>\n",
       "      <td id=\"T_49f76_row6_col1\" class=\"data row6 col1\" >6</td>\n",
       "      <td id=\"T_49f76_row6_col2\" class=\"data row6 col2\" >45</td>\n",
       "      <td id=\"T_49f76_row6_col3\" class=\"data row6 col3\" ><a href=\"http://www.foodrecipeshq.com/sweet-potato-and-eggplant-burger/\" target=\"_blank\">http://www.foodrecipeshq.com/sweet-potato-and-eggplant-burger/</a></td>\n",
       "    </tr>\n",
       "    <tr>\n",
       "      <th id=\"T_49f76_level0_row7\" class=\"row_heading level0 row7\" >792241</th>\n",
       "      <td id=\"T_49f76_row7_col0\" class=\"data row7 col0\" >Cheesy Party Burgers (AKA Diamond Burgers)</td>\n",
       "      <td id=\"T_49f76_row7_col1\" class=\"data row7 col1\" >12</td>\n",
       "      <td id=\"T_49f76_row7_col2\" class=\"data row7 col2\" >45</td>\n",
       "      <td id=\"T_49f76_row7_col3\" class=\"data row7 col3\" ><a href=\"http://www.kevinandamanda.com/cheesy-party-burgers-aka-diamond-burgers/\" target=\"_blank\">http://www.kevinandamanda.com/cheesy-party-burgers-aka-diamond-burgers/</a></td>\n",
       "    </tr>\n",
       "    <tr>\n",
       "      <th id=\"T_49f76_level0_row8\" class=\"row_heading level0 row8\" >720738</th>\n",
       "      <td id=\"T_49f76_row8_col0\" class=\"data row8 col0\" >Chickpea Burgers with Spinach</td>\n",
       "      <td id=\"T_49f76_row8_col1\" class=\"data row8 col1\" >2</td>\n",
       "      <td id=\"T_49f76_row8_col2\" class=\"data row8 col2\" >35</td>\n",
       "      <td id=\"T_49f76_row8_col3\" class=\"data row8 col3\" ><a href=\"http://naturallyella.com/chickpea-and-spinach-veggie-burgers/\" target=\"_blank\">http://naturallyella.com/chickpea-and-spinach-veggie-burgers/</a></td>\n",
       "    </tr>\n",
       "    <tr>\n",
       "      <th id=\"T_49f76_level0_row9\" class=\"row_heading level0 row9\" >492564</th>\n",
       "      <td id=\"T_49f76_row9_col0\" class=\"data row9 col0\" >Falafel Burgers with Feta Cucumber Sauce</td>\n",
       "      <td id=\"T_49f76_row9_col1\" class=\"data row9 col1\" >6</td>\n",
       "      <td id=\"T_49f76_row9_col2\" class=\"data row9 col2\" >50</td>\n",
       "      <td id=\"T_49f76_row9_col3\" class=\"data row9 col3\" ><a href=\"https://www.cinnamonspiceandeverythingnice.com/falafel-burgers-with-feta-tzatziki-sauce/\" target=\"_blank\">https://www.cinnamonspiceandeverythingnice.com/falafel-burgers-with-feta-tzatziki-sauce/</a></td>\n",
       "    </tr>\n",
       "  </tbody>\n",
       "</table>\n"
      ],
      "text/plain": [
       "<pandas.io.formats.style.Styler at 0x7fb8df708dc0>"
      ]
     },
     "execution_count": 14,
     "metadata": {},
     "output_type": "execute_result"
    }
   ],
   "source": [
    "# Search for recipes based on the keyword\n",
    "raw_recipe = fetch_recipe.search_recipes(recipe_api_key, 'burger')\n",
    "recipes_info = fetch_recipe.convert_recipes(raw_recipe )\n",
    "recipes_info"
   ]
  },
  {
   "cell_type": "code",
   "execution_count": 21,
   "id": "8488c978",
   "metadata": {},
   "outputs": [
    {
     "name": "stdout",
     "output_type": "stream",
     "text": [
      "Title: Vegan Gourmet Cream Cheese Dairy Alternative by Follow Your Heart\n",
      "Recipe ID: 795490\n"
     ]
    },
    {
     "data": {
      "text/html": [
       "<img src=\"https://spoonacular.com/recipeImages/795490-312x231.jpg\" width=\"200\"/>"
      ],
      "text/plain": [
       "<IPython.core.display.Image object>"
      ]
     },
     "metadata": {},
     "output_type": "display_data"
    },
    {
     "name": "stdout",
     "output_type": "stream",
     "text": [
      "\n",
      "Title: Pickle Roll-Ups\n",
      "Recipe ID: 557852\n"
     ]
    },
    {
     "data": {
      "text/html": [
       "<img src=\"https://spoonacular.com/recipeImages/557852-312x231.jpg\" width=\"200\"/>"
      ],
      "text/plain": [
       "<IPython.core.display.Image object>"
      ]
     },
     "metadata": {},
     "output_type": "display_data"
    },
    {
     "name": "stdout",
     "output_type": "stream",
     "text": [
      "\n",
      "Title: 3-Ingredient Crock Pot Salsa Verde Beef\n",
      "Recipe ID: 524928\n"
     ]
    },
    {
     "data": {
      "text/html": [
       "<img src=\"https://spoonacular.com/recipeImages/524928-312x231.jpg\" width=\"200\"/>"
      ],
      "text/plain": [
       "<IPython.core.display.Image object>"
      ]
     },
     "metadata": {},
     "output_type": "display_data"
    },
    {
     "name": "stdout",
     "output_type": "stream",
     "text": [
      "\n",
      "Title: Crockpot Taco Meat\n",
      "Recipe ID: 1180111\n"
     ]
    },
    {
     "data": {
      "text/html": [
       "<img src=\"https://spoonacular.com/recipeImages/1180111-312x231.jpg\" width=\"200\"/>"
      ],
      "text/plain": [
       "<IPython.core.display.Image object>"
      ]
     },
     "metadata": {},
     "output_type": "display_data"
    },
    {
     "name": "stdout",
     "output_type": "stream",
     "text": [
      "\n",
      "Title: French-Style Beef Baked Potatoes\n",
      "Recipe ID: 885310\n"
     ]
    },
    {
     "data": {
      "text/html": [
       "<img src=\"https://spoonacular.com/recipeImages/885310-312x231.jpg\" width=\"200\"/>"
      ],
      "text/plain": [
       "<IPython.core.display.Image object>"
      ]
     },
     "metadata": {},
     "output_type": "display_data"
    },
    {
     "name": "stdout",
     "output_type": "stream",
     "text": [
      "\n"
     ]
    }
   ],
   "source": [
    "# Search for recipes based on the ingredients\n",
    "# Display images of the dish\n",
    "ingredients_list= ['beef','potato']\n",
    "recipe_ingr = ing_search.ingredient_search_recipe(recipe_api_key, ingredients_list, number =5)\n",
    "ingr_image =  ing_search.display_images_ingredients(recipe_ingr)"
   ]
  },
  {
   "cell_type": "code",
   "execution_count": 23,
   "id": "cfd01c13",
   "metadata": {},
   "outputs": [
    {
     "name": "stdout",
     "output_type": "stream",
     "text": [
      "Title: Spicy Tuna Tartare\n",
      "Recipe ID: 17281\n",
      "Calories: 418 ; Protein: 26g ; Fat: 26g ; Carbohydrate: 13g \n"
     ]
    },
    {
     "data": {
      "text/html": [
       "<img src=\"https://spoonacular.com/recipeImages/17281-312x231.jpg\" width=\"200\"/>"
      ],
      "text/plain": [
       "<IPython.core.display.Image object>"
      ]
     },
     "metadata": {},
     "output_type": "display_data"
    },
    {
     "name": "stdout",
     "output_type": "stream",
     "text": [
      "Title: Baked Cauliflower Cheese Soup\n",
      "Recipe ID: 112134\n",
      "Calories: 515 ; Protein: 24g ; Fat: 40g ; Carbohydrate: 14g \n"
     ]
    },
    {
     "data": {
      "text/html": [
       "<img src=\"https://spoonacular.com/recipeImages/112134-312x231.jpg\" width=\"200\"/>"
      ],
      "text/plain": [
       "<IPython.core.display.Image object>"
      ]
     },
     "metadata": {},
     "output_type": "display_data"
    },
    {
     "name": "stdout",
     "output_type": "stream",
     "text": [
      "Title: Whole Wheat Pasta with Shrimp and Herbs\n",
      "Recipe ID: 175323\n",
      "Calories: 375 ; Protein: 27g ; Fat: 10g ; Carbohydrate: 37g \n"
     ]
    },
    {
     "data": {
      "text/html": [
       "<img src=\"https://spoonacular.com/recipeImages/175323-312x231.jpg\" width=\"200\"/>"
      ],
      "text/plain": [
       "<IPython.core.display.Image object>"
      ]
     },
     "metadata": {},
     "output_type": "display_data"
    },
    {
     "name": "stdout",
     "output_type": "stream",
     "text": [
      "Title: Curried Scallops with Tomatoes\n",
      "Recipe ID: 199726\n",
      "Calories: 255 ; Protein: 32g ; Fat: 7g  ; Carbohydrate: 12g \n"
     ]
    },
    {
     "data": {
      "text/html": [
       "<img src=\"https://spoonacular.com/recipeImages/199726-312x231.jpg\" width=\"200\"/>"
      ],
      "text/plain": [
       "<IPython.core.display.Image object>"
      ]
     },
     "metadata": {},
     "output_type": "display_data"
    },
    {
     "name": "stdout",
     "output_type": "stream",
     "text": [
      "Title: Curried Shrimp with Peanuts\n",
      "Recipe ID: 238512\n",
      "Calories: 276 ; Protein: 28g ; Fat: 13g ; Carbohydrate: 9g  \n"
     ]
    },
    {
     "data": {
      "text/html": [
       "<img src=\"https://spoonacular.com/recipeImages/238512-312x231.jpg\" width=\"200\"/>"
      ],
      "text/plain": [
       "<IPython.core.display.Image object>"
      ]
     },
     "metadata": {},
     "output_type": "display_data"
    },
    {
     "name": "stdout",
     "output_type": "stream",
     "text": [
      "Title: Grilled Lamb Chops with Peppercorns and Savory Mint Sauce\n",
      "Recipe ID: 255793\n",
      "Calories: 655 ; Protein: 84g ; Fat: 27g ; Carbohydrate: 11g \n"
     ]
    },
    {
     "data": {
      "text/html": [
       "<img src=\"https://spoonacular.com/recipeImages/255793-312x231.jpg\" width=\"200\"/>"
      ],
      "text/plain": [
       "<IPython.core.display.Image object>"
      ]
     },
     "metadata": {},
     "output_type": "display_data"
    },
    {
     "name": "stdout",
     "output_type": "stream",
     "text": [
      "Title: Steak Salad\n",
      "Recipe ID: 301701\n",
      "Calories: 563 ; Protein: 29g ; Fat: 44g ; Carbohydrate: 9g  \n"
     ]
    },
    {
     "data": {
      "text/html": [
       "<img src=\"https://spoonacular.com/recipeImages/301701-312x231.jpeg\" width=\"200\"/>"
      ],
      "text/plain": [
       "<IPython.core.display.Image object>"
      ]
     },
     "metadata": {},
     "output_type": "display_data"
    },
    {
     "name": "stdout",
     "output_type": "stream",
     "text": [
      "Title: Apple-&-Fennel Roasted Pork Tenderloin\n",
      "Recipe ID: 695218\n",
      "Calories: 244 ; Protein: 25g ; Fat: 6g  ; Carbohydrate: 17g \n"
     ]
    },
    {
     "data": {
      "text/html": [
       "<img src=\"https://spoonacular.com/recipeImages/695218-312x231.jpg\" width=\"200\"/>"
      ],
      "text/plain": [
       "<IPython.core.display.Image object>"
      ]
     },
     "metadata": {},
     "output_type": "display_data"
    },
    {
     "name": "stdout",
     "output_type": "stream",
     "text": [
      "Title: Ruth Reichl's Savory Sweet Pasta for Michael\n",
      "Recipe ID: 716723\n",
      "Calories: 550 ; Protein: 26g ; Fat: 11g ; Carbohydrate: 82g \n"
     ]
    },
    {
     "data": {
      "text/html": [
       "<img src=\"https://spoonacular.com/recipeImages/716723-312x231.jpg\" width=\"200\"/>"
      ],
      "text/plain": [
       "<IPython.core.display.Image object>"
      ]
     },
     "metadata": {},
     "output_type": "display_data"
    },
    {
     "name": "stdout",
     "output_type": "stream",
     "text": [
      "Title: Skinny Chicken & Broccoli Alfredo\n",
      "Recipe ID: 874765\n",
      "Calories: 351 ; Protein: 35g ; Fat: 15g ; Carbohydrate: 16g \n"
     ]
    },
    {
     "data": {
      "text/html": [
       "<img src=\"https://spoonacular.com/recipeImages/874765-312x231.jpg\" width=\"200\"/>"
      ],
      "text/plain": [
       "<IPython.core.display.Image object>"
      ]
     },
     "metadata": {},
     "output_type": "display_data"
    }
   ],
   "source": [
    "# Search for recipes based on nutritional constraints\n",
    "# Display images related to the nutritional content of the recipes\n",
    "nutr_constraints = {'minProtein':'20', 'maxFat':'50' }\n",
    "nutr_recipe = nutr_search.nutrient_search_recipe(recipe_api_key, nutr_constraints)\n",
    "nutr_image = nutr_search.display_images_nutrient(nutr_recipe)"
   ]
  },
  {
   "cell_type": "code",
   "execution_count": 24,
   "id": "ed31fbc8",
   "metadata": {},
   "outputs": [],
   "source": [
    "# Retrieve detailed information about the nutrition content, list of ingredients, required equipment, \n",
    "# taste assessment, and step-by-step instructions for a specific recipe identified by its unique ID.\n",
    "pick_id = 525021\n",
    "recipe = id_search.Recipe_id(pick_id, recipe_api_key)"
   ]
  },
  {
   "cell_type": "code",
   "execution_count": 25,
   "id": "c8b43b73",
   "metadata": {},
   "outputs": [
    {
     "data": {
      "text/html": [
       "<div>\n",
       "<style scoped>\n",
       "    .dataframe tbody tr th:only-of-type {\n",
       "        vertical-align: middle;\n",
       "    }\n",
       "\n",
       "    .dataframe tbody tr th {\n",
       "        vertical-align: top;\n",
       "    }\n",
       "\n",
       "    .dataframe thead th {\n",
       "        text-align: right;\n",
       "    }\n",
       "</style>\n",
       "<table border=\"1\" class=\"dataframe\">\n",
       "  <thead>\n",
       "    <tr style=\"text-align: right;\">\n",
       "      <th></th>\n",
       "      <th>name</th>\n",
       "      <th>metric_value</th>\n",
       "      <th>metric_unit</th>\n",
       "      <th>us_value</th>\n",
       "      <th>us_unit</th>\n",
       "    </tr>\n",
       "  </thead>\n",
       "  <tbody>\n",
       "    <tr>\n",
       "      <th>0</th>\n",
       "      <td>avocado</td>\n",
       "      <td>1.000</td>\n",
       "      <td></td>\n",
       "      <td>1.000000</td>\n",
       "      <td></td>\n",
       "    </tr>\n",
       "    <tr>\n",
       "      <th>1</th>\n",
       "      <td>canned cannellini benas</td>\n",
       "      <td>179.000</td>\n",
       "      <td>g</td>\n",
       "      <td>1.000000</td>\n",
       "      <td>cup</td>\n",
       "    </tr>\n",
       "    <tr>\n",
       "      <th>2</th>\n",
       "      <td>cumin</td>\n",
       "      <td>0.125</td>\n",
       "      <td>tsps</td>\n",
       "      <td>0.125000</td>\n",
       "      <td>tsps</td>\n",
       "    </tr>\n",
       "    <tr>\n",
       "      <th>3</th>\n",
       "      <td>egg</td>\n",
       "      <td>1.000</td>\n",
       "      <td>large</td>\n",
       "      <td>1.000000</td>\n",
       "      <td>large</td>\n",
       "    </tr>\n",
       "    <tr>\n",
       "      <th>4</th>\n",
       "      <td>garlic cloves</td>\n",
       "      <td>2.000</td>\n",
       "      <td></td>\n",
       "      <td>2.000000</td>\n",
       "      <td></td>\n",
       "    </tr>\n",
       "    <tr>\n",
       "      <th>5</th>\n",
       "      <td>sour plain greek yogurt</td>\n",
       "      <td>133.333</td>\n",
       "      <td>ml</td>\n",
       "      <td>0.666667</td>\n",
       "      <td>cup</td>\n",
       "    </tr>\n",
       "    <tr>\n",
       "      <th>6</th>\n",
       "      <td>maple syrup</td>\n",
       "      <td>1.000</td>\n",
       "      <td>tsp</td>\n",
       "      <td>1.000000</td>\n",
       "      <td>tsp</td>\n",
       "    </tr>\n",
       "    <tr>\n",
       "      <th>7</th>\n",
       "      <td>oat flour</td>\n",
       "      <td>40.000</td>\n",
       "      <td>g</td>\n",
       "      <td>0.333333</td>\n",
       "      <td>cup</td>\n",
       "    </tr>\n",
       "    <tr>\n",
       "      <th>8</th>\n",
       "      <td>olive oil</td>\n",
       "      <td>2.000</td>\n",
       "      <td>Tbsps</td>\n",
       "      <td>2.000000</td>\n",
       "      <td>Tbsps</td>\n",
       "    </tr>\n",
       "    <tr>\n",
       "      <th>9</th>\n",
       "      <td>onion powder</td>\n",
       "      <td>1.000</td>\n",
       "      <td>tsp</td>\n",
       "      <td>1.000000</td>\n",
       "      <td>tsp</td>\n",
       "    </tr>\n",
       "    <tr>\n",
       "      <th>10</th>\n",
       "      <td>panko bread crumbs</td>\n",
       "      <td>20.000</td>\n",
       "      <td>g</td>\n",
       "      <td>0.333333</td>\n",
       "      <td>cup</td>\n",
       "    </tr>\n",
       "    <tr>\n",
       "      <th>11</th>\n",
       "      <td>pepper</td>\n",
       "      <td>0.500</td>\n",
       "      <td>tsps</td>\n",
       "      <td>0.500000</td>\n",
       "      <td>tsps</td>\n",
       "    </tr>\n",
       "    <tr>\n",
       "      <th>12</th>\n",
       "      <td>bulbs of roasted garlic</td>\n",
       "      <td>2.000</td>\n",
       "      <td></td>\n",
       "      <td>2.000000</td>\n",
       "      <td></td>\n",
       "    </tr>\n",
       "    <tr>\n",
       "      <th>13</th>\n",
       "      <td>salt</td>\n",
       "      <td>1.000</td>\n",
       "      <td>tsp</td>\n",
       "      <td>1.000000</td>\n",
       "      <td>tsp</td>\n",
       "    </tr>\n",
       "    <tr>\n",
       "      <th>14</th>\n",
       "      <td>extra salt and pepper</td>\n",
       "      <td>4.000</td>\n",
       "      <td>servings</td>\n",
       "      <td>4.000000</td>\n",
       "      <td>servings</td>\n",
       "    </tr>\n",
       "    <tr>\n",
       "      <th>15</th>\n",
       "      <td>smoked paprika</td>\n",
       "      <td>1.500</td>\n",
       "      <td>tsps</td>\n",
       "      <td>1.500000</td>\n",
       "      <td>tsps</td>\n",
       "    </tr>\n",
       "    <tr>\n",
       "      <th>16</th>\n",
       "      <td>coarsely sweet potatoes</td>\n",
       "      <td>266.000</td>\n",
       "      <td>g</td>\n",
       "      <td>2.000000</td>\n",
       "      <td>cups</td>\n",
       "    </tr>\n",
       "    <tr>\n",
       "      <th>17</th>\n",
       "      <td>whole wheat buns</td>\n",
       "      <td>4.000</td>\n",
       "      <td></td>\n",
       "      <td>4.000000</td>\n",
       "      <td></td>\n",
       "    </tr>\n",
       "  </tbody>\n",
       "</table>\n",
       "</div>"
      ],
      "text/plain": [
       "                       name  metric_value metric_unit  us_value   us_unit\n",
       "0                   avocado         1.000              1.000000          \n",
       "1   canned cannellini benas       179.000           g  1.000000       cup\n",
       "2                     cumin         0.125        tsps  0.125000      tsps\n",
       "3                       egg         1.000       large  1.000000     large\n",
       "4             garlic cloves         2.000              2.000000          \n",
       "5   sour plain greek yogurt       133.333          ml  0.666667       cup\n",
       "6               maple syrup         1.000         tsp  1.000000       tsp\n",
       "7                 oat flour        40.000           g  0.333333       cup\n",
       "8                 olive oil         2.000       Tbsps  2.000000     Tbsps\n",
       "9              onion powder         1.000         tsp  1.000000       tsp\n",
       "10       panko bread crumbs        20.000           g  0.333333       cup\n",
       "11                   pepper         0.500        tsps  0.500000      tsps\n",
       "12  bulbs of roasted garlic         2.000              2.000000          \n",
       "13                     salt         1.000         tsp  1.000000       tsp\n",
       "14    extra salt and pepper         4.000    servings  4.000000  servings\n",
       "15           smoked paprika         1.500        tsps  1.500000      tsps\n",
       "16  coarsely sweet potatoes       266.000           g  2.000000      cups\n",
       "17         whole wheat buns         4.000              4.000000          "
      ]
     },
     "execution_count": 25,
     "metadata": {},
     "output_type": "execute_result"
    }
   ],
   "source": [
    "ingredient_info = recipe.search_ingredient_id()\n",
    "ingredient_info"
   ]
  },
  {
   "cell_type": "code",
   "execution_count": 26,
   "id": "a390171d",
   "metadata": {},
   "outputs": [
    {
     "data": {
      "text/html": [
       "<div>\n",
       "<style scoped>\n",
       "    .dataframe tbody tr th:only-of-type {\n",
       "        vertical-align: middle;\n",
       "    }\n",
       "\n",
       "    .dataframe tbody tr th {\n",
       "        vertical-align: top;\n",
       "    }\n",
       "\n",
       "    .dataframe thead th {\n",
       "        text-align: right;\n",
       "    }\n",
       "</style>\n",
       "<table border=\"1\" class=\"dataframe\">\n",
       "  <thead>\n",
       "    <tr style=\"text-align: right;\">\n",
       "      <th></th>\n",
       "      <th>info</th>\n",
       "    </tr>\n",
       "  </thead>\n",
       "  <tbody>\n",
       "    <tr>\n",
       "      <th>percentProtein</th>\n",
       "      <td>13.66</td>\n",
       "    </tr>\n",
       "    <tr>\n",
       "      <th>percentFat</th>\n",
       "      <td>37.02</td>\n",
       "    </tr>\n",
       "    <tr>\n",
       "      <th>percentCarbs</th>\n",
       "      <td>49.32</td>\n",
       "    </tr>\n",
       "    <tr>\n",
       "      <th>amount</th>\n",
       "      <td>283</td>\n",
       "    </tr>\n",
       "    <tr>\n",
       "      <th>unit</th>\n",
       "      <td>g</td>\n",
       "    </tr>\n",
       "  </tbody>\n",
       "</table>\n",
       "</div>"
      ],
      "text/plain": [
       "                 info\n",
       "percentProtein  13.66\n",
       "percentFat      37.02\n",
       "percentCarbs    49.32\n",
       "amount            283\n",
       "unit                g"
      ]
     },
     "execution_count": 26,
     "metadata": {},
     "output_type": "execute_result"
    }
   ],
   "source": [
    "nutr_info = recipe.search_nutrient_id()\n",
    "nutr_info"
   ]
  },
  {
   "cell_type": "code",
   "execution_count": 28,
   "id": "9d76fe95",
   "metadata": {},
   "outputs": [
    {
     "data": {
      "text/html": [
       "<div>\n",
       "<style scoped>\n",
       "    .dataframe tbody tr th:only-of-type {\n",
       "        vertical-align: middle;\n",
       "    }\n",
       "\n",
       "    .dataframe tbody tr th {\n",
       "        vertical-align: top;\n",
       "    }\n",
       "\n",
       "    .dataframe thead th {\n",
       "        text-align: right;\n",
       "    }\n",
       "</style>\n",
       "<table border=\"1\" class=\"dataframe\">\n",
       "  <thead>\n",
       "    <tr style=\"text-align: right;\">\n",
       "      <th></th>\n",
       "      <th>name</th>\n",
       "    </tr>\n",
       "  </thead>\n",
       "  <tbody>\n",
       "    <tr>\n",
       "      <th>0</th>\n",
       "      <td>food processor</td>\n",
       "    </tr>\n",
       "    <tr>\n",
       "      <th>1</th>\n",
       "      <td>paper towels</td>\n",
       "    </tr>\n",
       "    <tr>\n",
       "      <th>2</th>\n",
       "      <td>microwave</td>\n",
       "    </tr>\n",
       "    <tr>\n",
       "      <th>3</th>\n",
       "      <td>blender</td>\n",
       "    </tr>\n",
       "    <tr>\n",
       "      <th>4</th>\n",
       "      <td>frying pan</td>\n",
       "    </tr>\n",
       "    <tr>\n",
       "      <th>5</th>\n",
       "      <td>bowl</td>\n",
       "    </tr>\n",
       "  </tbody>\n",
       "</table>\n",
       "</div>"
      ],
      "text/plain": [
       "             name\n",
       "0  food processor\n",
       "1    paper towels\n",
       "2       microwave\n",
       "3         blender\n",
       "4      frying pan\n",
       "5            bowl"
      ]
     },
     "execution_count": 28,
     "metadata": {},
     "output_type": "execute_result"
    }
   ],
   "source": [
    "equipment_info = recipe.search_equipment_id()\n",
    "equipment_info"
   ]
  },
  {
   "cell_type": "code",
   "execution_count": 29,
   "id": "2f9d967c",
   "metadata": {},
   "outputs": [
    {
     "name": "stdout",
     "output_type": "stream",
     "text": [
      "Here are the steps to prepare recipe 525021:\n",
      "1. To roast garlic, see this tutorial. I like to roast a few bulbs at once (like 4-\n",
      "\n",
      "2. to have for the week.Pierce potatoes (I used 2 large) all over with a fork and place on a paper towel, setting in the microwave. Microwave for 5 minutes, then flip and cook for 5 minutes more.\n",
      "\n",
      "3. Remove, slice in half and let cool until you can scoop out the flesh. In a large bowl, coarsely mash beans with a fork.\n",
      "\n",
      "4. Add in sweet potato and mash together, then add in spices, salt and pepper, minced garlic, egg, panko and flour.\n",
      "\n",
      "5. Mix together until combined, then place bowl in the fridge for 15-20 minutes. This helps form them into patties, but as a warning they are still somewhat messy.While mixture is chilling, combine yogurt/sour cream with 2 bulbs (squeezed out) of roasted garlic cloves, maple syrup and a sprinkle of salt and pepper in a blender or food processor. Process until smooth then set aside until ready to use.\n",
      "\n",
      "6. Heat a large skillet over medium heat and add 2 tablespoons olive oil.\n",
      "\n",
      "7. Remove mixture from fridge and form into 4 equal patties, then place in the skillet once hot. Since the mixture can be wet and messy, do not move until they are fully cooked and golden on one side! This takes about 5-6 minutes. Then, add more oil if needed (this really helps cook them) and flip burgers very gently. Cook for another 5-6 minutes. Toast buns if desired.Assemble by topping burgers with roasted garlic cream and avocado! We also used caramelized red onion one night and it was delicious.\n",
      "\n"
     ]
    }
   ],
   "source": [
    "raw_instruction  = recipe.search_instruction_id()\n",
    "instruction = recipe.convert_instruction(raw_instruction)"
   ]
  },
  {
   "cell_type": "code",
   "execution_count": 30,
   "id": "c3d63c4a",
   "metadata": {},
   "outputs": [
    {
     "data": {
      "text/html": [
       "<div>\n",
       "<style scoped>\n",
       "    .dataframe tbody tr th:only-of-type {\n",
       "        vertical-align: middle;\n",
       "    }\n",
       "\n",
       "    .dataframe tbody tr th {\n",
       "        vertical-align: top;\n",
       "    }\n",
       "\n",
       "    .dataframe thead th {\n",
       "        text-align: right;\n",
       "    }\n",
       "</style>\n",
       "<table border=\"1\" class=\"dataframe\">\n",
       "  <thead>\n",
       "    <tr style=\"text-align: right;\">\n",
       "      <th></th>\n",
       "      <th>sweetness</th>\n",
       "      <th>saltiness</th>\n",
       "      <th>sourness</th>\n",
       "      <th>bitterness</th>\n",
       "      <th>savoriness</th>\n",
       "      <th>fattiness</th>\n",
       "      <th>spiciness</th>\n",
       "    </tr>\n",
       "  </thead>\n",
       "  <tbody>\n",
       "    <tr>\n",
       "      <th>690978</th>\n",
       "      <td>2.55</td>\n",
       "      <td>5.69</td>\n",
       "      <td>3.24</td>\n",
       "      <td>3.22</td>\n",
       "      <td>4.43</td>\n",
       "      <td>3.44</td>\n",
       "      <td>2175000.0</td>\n",
       "    </tr>\n",
       "    <tr>\n",
       "      <th>238512</th>\n",
       "      <td>1.23</td>\n",
       "      <td>0.40</td>\n",
       "      <td>0.37</td>\n",
       "      <td>0.09</td>\n",
       "      <td>0.33</td>\n",
       "      <td>0.95</td>\n",
       "      <td>456750.0</td>\n",
       "    </tr>\n",
       "  </tbody>\n",
       "</table>\n",
       "</div>"
      ],
      "text/plain": [
       "        sweetness  saltiness  sourness  bitterness  savoriness  fattiness  \\\n",
       "690978       2.55       5.69      3.24        3.22        4.43       3.44   \n",
       "238512       1.23       0.40      0.37        0.09        0.33       0.95   \n",
       "\n",
       "        spiciness  \n",
       "690978  2175000.0  \n",
       "238512   456750.0  "
      ]
     },
     "execution_count": 30,
     "metadata": {},
     "output_type": "execute_result"
    }
   ],
   "source": [
    "id_list  = [690978,238512]\n",
    "taste = recipe.search_taste_id(id_list)\n",
    "taste"
   ]
  },
  {
   "cell_type": "code",
   "execution_count": null,
   "id": "bdf216ad",
   "metadata": {},
   "outputs": [],
   "source": []
  }
 ],
 "metadata": {
  "kernelspec": {
   "display_name": "Python 3 (ipykernel)",
   "language": "python",
   "name": "python3"
  },
  "language_info": {
   "codemirror_mode": {
    "name": "ipython",
    "version": 3
   },
   "file_extension": ".py",
   "mimetype": "text/x-python",
   "name": "python",
   "nbconvert_exporter": "python",
   "pygments_lexer": "ipython3",
   "version": "3.9.18"
  }
 },
 "nbformat": 4,
 "nbformat_minor": 5
}

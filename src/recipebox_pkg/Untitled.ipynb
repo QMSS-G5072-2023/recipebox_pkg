{
 "cells": [
  {
   "cell_type": "code",
   "execution_count": 1,
   "id": "a0e3581d",
   "metadata": {},
   "outputs": [],
   "source": [
    "import id_search"
   ]
  },
  {
   "cell_type": "code",
   "execution_count": 2,
   "id": "8ad6795f",
   "metadata": {},
   "outputs": [],
   "source": [
    "import nutr_search"
   ]
  },
  {
   "cell_type": "code",
   "execution_count": 3,
   "id": "64b9fc61",
   "metadata": {},
   "outputs": [],
   "source": [
    "import ing_search"
   ]
  },
  {
   "cell_type": "code",
   "execution_count": 4,
   "id": "64895db7",
   "metadata": {},
   "outputs": [],
   "source": [
    "import fetch_recipe"
   ]
  },
  {
   "cell_type": "code",
   "execution_count": null,
   "id": "6c1f907c",
   "metadata": {},
   "outputs": [],
   "source": []
  },
  {
   "cell_type": "code",
   "execution_count": null,
   "id": "707768a7",
   "metadata": {},
   "outputs": [],
   "source": []
  },
  {
   "cell_type": "code",
   "execution_count": null,
   "id": "f8a4d49c",
   "metadata": {},
   "outputs": [],
   "source": []
  }
 ],
 "metadata": {
  "kernelspec": {
   "display_name": "Python 3 (ipykernel)",
   "language": "python",
   "name": "python3"
  },
  "language_info": {
   "codemirror_mode": {
    "name": "ipython",
    "version": 3
   },
   "file_extension": ".py",
   "mimetype": "text/x-python",
   "name": "python",
   "nbconvert_exporter": "python",
   "pygments_lexer": "ipython3",
   "version": "3.9.18"
  }
 },
 "nbformat": 4,
 "nbformat_minor": 5
}
